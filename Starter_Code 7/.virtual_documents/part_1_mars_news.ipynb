


# Import Splinter and BeautifulSoup
from splinter import Browser
from bs4 import BeautifulSoup as soup


browser = Browser('chrome')





# Visit the Mars news site
url = 'https://static.bc-edx.com/data/web/mars_news/index.html'
browser.visit(url)





# Creates a Beautiful Soup object

html = browser.html

soup = soup(html, 'html.parser')



# Extract all the text elements

text_element = soup.find_all('div')

text_element[0]






# Creates an empty list to store the dictionaries

news_dictionary_list = []

# Loop through the text elements to extract the titles and previews

titles = []
previews = []
for element in text_element:
    titles.append(element.find_all('div', class_ = 'content_title'))
    previews.append(element.find_all('div', class_ = 'article_teaser_body'))

# Gets the first element for each list
titles = titles[0]
previews = previews[0]


for i, title in enumerate(titles):
# Creates empty dictionary
    news_dictionary = {}
# Stores each title and preview pair in a dictionary
    news_dictionary['title'] = title.text
    news_dictionary['preview'] = previews[i].text
# Adds the dictionary to the list
    news_dictionary_list.append(news_dictionary)


# Prints the list
for value in news_dictionary_list:
    print(value)



browser.quit()



